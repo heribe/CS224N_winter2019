{
 "cells": [
  {
   "cell_type": "code",
   "execution_count": 1,
   "metadata": {
    "ExecuteTime": {
     "end_time": "2021-06-29T03:39:48.769270Z",
     "start_time": "2021-06-29T03:39:29.409466Z"
    }
   },
   "outputs": [
    {
     "name": "stdout",
     "output_type": "stream",
     "text": [
      "1.34 ms ± 115 µs per loop (mean ± std. dev. of 7 runs, 1000 loops each)\n",
      "103 µs ± 13.4 µs per loop (mean ± std. dev. of 7 runs, 10000 loops each)\n"
     ]
    }
   ],
   "source": [
    "from numpy import random\n",
    "N = 500\n",
    "d = 300\n",
    "C = 5\n",
    "W = random.rand(C,d)\n",
    "wordvectors_list = [random.rand(d,1) for i in range(N)]\n",
    "wordvectors_one_matrix = random.rand(d,N)\n",
    "\n",
    "%timeit [W.dot(wordvectors_list[i]) for i in range(N)]\n",
    "%timeit W.dot(wordvectors_one_matrix)"
   ]
  },
  {
   "cell_type": "code",
   "execution_count": 4,
   "metadata": {},
   "outputs": [
    {
     "name": "stdout",
     "output_type": "stream",
     "text": [
      "(2, 2)\n",
      "(2, 1, 2)\n"
     ]
    },
    {
     "data": {
      "text/plain": [
       "array([[[1, 2]],\n",
       "\n",
       "       [[3, 4]]])"
      ]
     },
     "execution_count": 4,
     "metadata": {},
     "output_type": "execute_result"
    }
   ],
   "source": [
    "import numpy as np\n",
    "A = np.array([[1,2],[3,4]])\n",
    "print(A.shape)\n",
    "B = A[:,np.newaxis,:]\n",
    "print(B.shape)\n",
    "B"
   ]
  },
  {
   "cell_type": "code",
   "execution_count": 60,
   "metadata": {},
   "outputs": [
    {
     "name": "stdout",
     "output_type": "stream",
     "text": [
      "[[[ 1  2  3]\n",
      "  [ 3  4  5]\n",
      "  [ 5  6  7]]\n",
      "\n",
      " [[21 31 41]\n",
      "  [41 51 61]\n",
      "  [51 61 71]]]\n",
      "[[[ 1  2  3]\n",
      "  [21 31 41]]\n",
      "\n",
      " [[ 3  4  5]\n",
      "  [41 51 61]]\n",
      "\n",
      " [[ 5  6  7]\n",
      "  [51 61 71]]]\n",
      "[[[ 1 21]\n",
      "  [ 2 31]\n",
      "  [ 3 41]]\n",
      "\n",
      " [[ 3 41]\n",
      "  [ 4 51]\n",
      "  [ 5 61]]\n",
      "\n",
      " [[ 5 51]\n",
      "  [ 6 61]\n",
      "  [ 7 71]]]\n"
     ]
    }
   ],
   "source": [
    "a = [[1,2,3],[3,4,5],[5,6,7]]\n",
    "b = [[21,31,41],[41,51,61],[51,61,71]]\n",
    "for i in range(3):\n",
    "    print(np.stack((a,b),axis=i))"
   ]
  },
  {
   "cell_type": "code",
   "execution_count": 4,
   "metadata": {
    "ExecuteTime": {
     "end_time": "2021-06-30T13:51:34.936749Z",
     "start_time": "2021-06-30T13:51:34.914806Z"
    }
   },
   "outputs": [
    {
     "data": {
      "text/plain": [
       "10"
      ]
     },
     "execution_count": 4,
     "metadata": {},
     "output_type": "execute_result"
    }
   ],
   "source": [
    "import numpy as np\n",
    "a = np.array([1,2,3,4]).reshape(np.array)\n",
    "np.sum(a,axis=0)"
   ]
  },
  {
   "cell_type": "code",
   "execution_count": 8,
   "metadata": {
    "ExecuteTime": {
     "end_time": "2021-07-01T06:42:53.730476Z",
     "start_time": "2021-07-01T06:42:53.725006Z"
    }
   },
   "outputs": [
    {
     "data": {
      "text/plain": [
       "[[0, 1, 2, 3, 4], [0, 1, 2, 3, 4]]"
      ]
     },
     "execution_count": 8,
     "metadata": {},
     "output_type": "execute_result"
    }
   ],
   "source": [
    "a = [[i for i in range(5)]]\n",
    "b = [[i for i in range(5)]]\n",
    "a+b            "
   ]
  },
  {
   "cell_type": "code",
   "execution_count": 15,
   "metadata": {
    "ExecuteTime": {
     "end_time": "2021-07-01T07:24:40.917581Z",
     "start_time": "2021-07-01T07:24:40.910893Z"
    }
   },
   "outputs": [
    {
     "data": {
      "text/plain": [
       "array([4, 9])"
      ]
     },
     "execution_count": 15,
     "metadata": {},
     "output_type": "execute_result"
    }
   ],
   "source": [
    "np.array([2,3])**2"
   ]
  },
  {
   "cell_type": "code",
   "execution_count": null,
   "metadata": {},
   "outputs": [],
   "source": []
  }
 ],
 "metadata": {
  "kernelspec": {
   "display_name": "Python 3",
   "language": "python",
   "name": "python3"
  },
  "language_info": {
   "codemirror_mode": {
    "name": "ipython",
    "version": 3
   },
   "file_extension": ".py",
   "mimetype": "text/x-python",
   "name": "python",
   "nbconvert_exporter": "python",
   "pygments_lexer": "ipython3",
   "version": "3.7.1"
  },
  "toc": {
   "base_numbering": 1,
   "nav_menu": {},
   "number_sections": true,
   "sideBar": true,
   "skip_h1_title": false,
   "title_cell": "Table of Contents",
   "title_sidebar": "Contents",
   "toc_cell": false,
   "toc_position": {},
   "toc_section_display": true,
   "toc_window_display": false
  },
  "varInspector": {
   "cols": {
    "lenName": 16,
    "lenType": 16,
    "lenVar": 40
   },
   "kernels_config": {
    "python": {
     "delete_cmd_postfix": "",
     "delete_cmd_prefix": "del ",
     "library": "var_list.py",
     "varRefreshCmd": "print(var_dic_list())"
    },
    "r": {
     "delete_cmd_postfix": ") ",
     "delete_cmd_prefix": "rm(",
     "library": "var_list.r",
     "varRefreshCmd": "cat(var_dic_list()) "
    }
   },
   "position": {
    "height": "334px",
    "left": "475px",
    "right": "20px",
    "top": "120px",
    "width": "519px"
   },
   "types_to_exclude": [
    "module",
    "function",
    "builtin_function_or_method",
    "instance",
    "_Feature"
   ],
   "window_display": false
  }
 },
 "nbformat": 4,
 "nbformat_minor": 2
}
